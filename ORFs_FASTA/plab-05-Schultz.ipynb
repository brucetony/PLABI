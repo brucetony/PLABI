{
 "cells": [
  {
   "cell_type": "markdown",
   "metadata": {},
   "source": [
    "# Handout 5  \n",
    "\n",
    "Bruce Schultz"
   ]
  },
  {
   "cell_type": "markdown",
   "metadata": {},
   "source": [
    "### Exercise 1\n",
    "\n",
    "##### Part a  \n",
    "\n",
    "**Write a function single_fasta_sequence(filename) that reads a sequence given in\n",
    "FASTA format from a file containing a single sequence.**"
   ]
  },
  {
   "cell_type": "code",
   "execution_count": 6,
   "metadata": {},
   "outputs": [],
   "source": [
    "def single_fasta_sequence(file):\n",
    "    \"\"\"\n",
    "    :param fasta_file: FASTA formatted file contents\n",
    "    :return: Tuple containing the header in position 0 and sequence in position 1\n",
    "    \"\"\"\n",
    "    content = file.read().splitlines()\n",
    "    header = content[0][1:]  # Remove the '>' character\n",
    "    sequence = ''.join(content[1:])  # Join sequence lines together\n",
    "    return (header, sequence)"
   ]
  },
  {
   "cell_type": "code",
   "execution_count": 9,
   "metadata": {},
   "outputs": [
    {
     "name": "stdout",
     "output_type": "stream",
     "text": [
      "AGCTTTTCAT\n"
     ]
    }
   ],
   "source": [
    "with open('ecoli-genome.fna', 'r') as f:\n",
    "    hd, seq = single_fasta_sequence(f)\n",
    "print(seq[:10])"
   ]
  },
  {
   "cell_type": "markdown",
   "metadata": {},
   "source": [
    "##### Part b  \n",
    "\n",
    "**Write a function fasta_list(filename) that reads all sequences from a FASTA file and returns a list of tuples, each tuple containing the header as the first and the sequence as the second element.**"
   ]
  },
  {
   "cell_type": "code",
   "execution_count": 10,
   "metadata": {},
   "outputs": [],
   "source": [
    "def fasta_list(file):\n",
    "    \"\"\"\n",
    "    Same as single_fasta_sequence, only works on a file containing multiple FASTA sequences\n",
    "    :param fasta_file: FASTA formatted file content with 1+ sequences\n",
    "    :return: List of tuples, each containing the header in position 0 and sequence in position 1\n",
    "    \"\"\"\n",
    "    content = file.read().split('>')[1:]\n",
    "    genes = []\n",
    "    for gene in content:\n",
    "        gene = gene.splitlines()  # Split the lines\n",
    "        header = gene[0]\n",
    "        sequence = ''.join(gene[1:]).replace('\\n', '')\n",
    "        genes.append((header, sequence))\n",
    "    return genes"
   ]
  },
  {
   "cell_type": "code",
   "execution_count": 12,
   "metadata": {},
   "outputs": [
    {
     "name": "stdout",
     "output_type": "stream",
     "text": [
      "('gi|556503834|ref|NC_000913.3|:190-255 Escherichia coli str. K-12 substr. MG1655, complete genome', 'ATGAAACGCATTAGCACCACCATTACCACCACCATCACCATTACCACAGGTAACGGTGCGGGCTGA')\n"
     ]
    }
   ],
   "source": [
    "with open('ecoli-genes.ffn', 'r') as f:\n",
    "    genes = fasta_list(f)\n",
    "print(genes[0][:50])"
   ]
  },
  {
   "cell_type": "markdown",
   "metadata": {},
   "source": [
    "##### Part c  \n",
    "\n",
    "**Write a function fasta_sequences(filename) that can be used in the manner described above using a self written generator using the yield keyword.**"
   ]
  },
  {
   "cell_type": "code",
   "execution_count": 19,
   "metadata": {},
   "outputs": [],
   "source": [
    "def fasta_sequences(fasta_file):\n",
    "    with open(fasta_file, 'r') as file:\n",
    "        for gene in fasta_list(file):\n",
    "            yield gene"
   ]
  },
  {
   "cell_type": "code",
   "execution_count": 22,
   "metadata": {},
   "outputs": [
    {
     "name": "stdout",
     "output_type": "stream",
     "text": [
      "The longest gene is gi|556503834|ref|NC_000913.3|:2044938-2052014 Escherichia coli str. K-12 substr. MG1655, complete genome and contains 7077 nucleobases.\n"
     ]
    }
   ],
   "source": [
    "name,seq = max(fasta_sequences(\"ecoli-genes.ffn\"),key= lambda x: len(x[1]))\n",
    "max_length = len(seq)\n",
    "print(\"The longest gene is\",name,\"and contains\",max_length,\"nucleobases.\")"
   ]
  },
  {
   "cell_type": "markdown",
   "metadata": {},
   "source": [
    "##### Part d  \n",
    "\n",
    "**Test the functions written in (b) and (c) on ecoli-proteome.faa . Read the Fasta file\n",
    "and print the header and the length of the shortest and longest amino acid sequence.**"
   ]
  },
  {
   "cell_type": "code",
   "execution_count": 28,
   "metadata": {},
   "outputs": [
    {
     "name": "stdout",
     "output_type": "stream",
     "text": [
      "Lists:\n",
      "The longest gene is gi|145698281|ref|NP_416485.4| putative adhesin [Escherichia coli str. K-12 substr. MG1655] and contains 2358 nucleobases.\n",
      "\n",
      "Generator:\n",
      "The longest gene is gi|145698281|ref|NP_416485.4| putative adhesin [Escherichia coli str. K-12 substr. MG1655] and contains 2358 nucleobases.\n"
     ]
    }
   ],
   "source": [
    "# Lists\n",
    "with open('ecoli-proteome.faa', 'r') as f:\n",
    "    genes = fasta_list(f)\n",
    "name,seq = max(genes,key= lambda x: len(x[1]))\n",
    "max_length = len(seq)\n",
    "print(\"Lists:\\nThe longest gene is\",name,\"and contains\",max_length,\"nucleobases.\\n\")\n",
    "\n",
    "# Generators\n",
    "name,seq = max(fasta_sequences(\"ecoli-proteome.faa\"),key= lambda x: len(x[1]))\n",
    "max_length = len(seq)\n",
    "print(\"Generator:\\nThe longest gene is\",name,\"and contains\",max_length,\"nucleobases.\")"
   ]
  },
  {
   "cell_type": "markdown",
   "metadata": {},
   "source": [
    "##### Part e  \n",
    "\n",
    "**Now write a function write_fasta(outfile,header,sequence) that writes the sequence\n",
    "with header to the opened file outfile in FASTA format.**"
   ]
  },
  {
   "cell_type": "code",
   "execution_count": 29,
   "metadata": {},
   "outputs": [],
   "source": [
    "def write_fasta(outfile, header, sequence):\n",
    "    outfile.write(\">\"+header+'\\n')\n",
    "    i = 0\n",
    "    while i < len(sequence):\n",
    "        outfile.write(sequence[i:i+69]+'\\n')  # Sequence lines cannot be > 70 chars\n",
    "        i += 69"
   ]
  },
  {
   "cell_type": "markdown",
   "metadata": {},
   "source": [
    "##### Part f  \n",
    "\n",
    "**Put the definitions of the previous functions in a single file named fastatools.py .**"
   ]
  },
  {
   "cell_type": "markdown",
   "metadata": {},
   "source": [
    "### Exercise 2\n",
    "\n",
    "**Write a script cdna.py that takes two command line parameters. The first is an input file\n",
    "containing a DNA sequence in FASTA format. Read the sequence and generate the cDNA\n",
    "(complementary DNA strand) and write it to the file given as second parameter.**"
   ]
  },
  {
   "cell_type": "code",
   "execution_count": 33,
   "metadata": {},
   "outputs": [],
   "source": [
    "run cdna.py ecoli-genome.fna ecoli-genome-comp.fna"
   ]
  },
  {
   "cell_type": "markdown",
   "metadata": {},
   "source": [
    "### Exercise 3\n",
    "\n",
    "##### Part a  \n",
    "\n",
    "**Write a script orf_finder.py that takes two command line parameters. The first is an\n",
    "input file containing a DNA sequence. The second is an output file that should contain\n",
    "all the (longest) open reading frames found in DNA (from both strands).**"
   ]
  },
  {
   "cell_type": "code",
   "execution_count": 34,
   "metadata": {},
   "outputs": [],
   "source": [
    "run orf_finder.py ecoli-genome-sample.fna ecoli-genome-orfs.ffn"
   ]
  },
  {
   "cell_type": "code",
   "execution_count": null,
   "metadata": {},
   "outputs": [],
   "source": []
  }
 ],
 "metadata": {
  "kernelspec": {
   "display_name": "Python 3",
   "language": "python",
   "name": "python3"
  },
  "language_info": {
   "codemirror_mode": {
    "name": "ipython",
    "version": 3
   },
   "file_extension": ".py",
   "mimetype": "text/x-python",
   "name": "python",
   "nbconvert_exporter": "python",
   "pygments_lexer": "ipython3",
   "version": "3.6.4"
  }
 },
 "nbformat": 4,
 "nbformat_minor": 2
}
