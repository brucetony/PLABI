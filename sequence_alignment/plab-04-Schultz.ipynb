{
 "cells": [
  {
   "cell_type": "markdown",
   "metadata": {},
   "source": [
    "# Handout 4"
   ]
  },
  {
   "cell_type": "markdown",
   "metadata": {},
   "source": [
    "Bruce Schultz  \n",
    "  \n",
    "### Exercise 1"
   ]
  },
  {
   "cell_type": "markdown",
   "metadata": {},
   "source": [
    "See attached photo"
   ]
  },
  {
   "cell_type": "markdown",
   "metadata": {},
   "source": [
    "### Exercise 2 - Calculating Scoring Matrices\n",
    "\n",
    "**Your program will need to.  \n",
    "(a) read in the alignment data in an appropriate data structure,  \n",
    "(b) determine the log-odds scores for each possible alignment of amino acids,  \n",
    "(c) produce a (nicely formatted) output of the resulting scoring matrix.**"
   ]
  },
  {
   "cell_type": "code",
   "execution_count": 1,
   "metadata": {},
   "outputs": [],
   "source": [
    "from itertools import combinations\n",
    "from math import log\n",
    "from tabulate import tabulate\n",
    "import pandas as pd\n",
    "import numpy as np\n",
    "import sys\n",
    "import os.path"
   ]
  },
  {
   "cell_type": "code",
   "execution_count": 2,
   "metadata": {},
   "outputs": [],
   "source": [
    "run blosum.py alignment.dat blosum_matrix.out"
   ]
  },
  {
   "cell_type": "code",
   "execution_count": 3,
   "metadata": {},
   "outputs": [
    {
     "data": {
      "text/plain": [
       "['   Q  S  L  R  T   F  V  I  D  M  W  Y   K  A  H  P  G  C  E  N',\n",
       " 'Q  7 -3 -2 -1 -5  -3 -4  0 -6 -4 -5 -6   1 -1  3 -4 -4  1 -1 -1',\n",
       " 'S -3  5 -3 -3  1  -5 -3 -3 -4 -2 -7 -3  -1  1 -1  0  1 -2 -3  0',\n",
       " 'L -2 -3  6 -2 -4   1  0  0 -3  1 -2 -3  -7 -2 -3 -3 -2 -1 -3 -7',\n",
       " 'R -1 -3 -2  6 -1  -3 -3 -3 -4 -2 -4 -2   2 -3  1 -5  0  0 -3 -1',\n",
       " 'T -5  1 -4 -1  6  -3 -2 -2 -5  0 -5 -2  -1  0 -3 -2 -2  0 -3  0',\n",
       " 'F -3 -5  1 -3 -3   7 -3 -1 -3  0  0  3 -10 -4 -5 -5 -7  0 -7 -4',\n",
       " 'V -4 -3  0 -3 -2  -3  6  2 -2  0 -1 -4  -2  0 -3 -5 -2 -1 -3 -1',\n",
       " 'I  0 -3  0 -3 -2  -1  2  6 -2 -1 -5 -2  -4 -2  0 -3 -4 -2 -3 -1',\n",
       " 'D -6 -4 -3 -4 -5  -3 -2 -2  6 -5 -8 -4  -3 -2 -3 -6 -2 -3  1  1',\n",
       " 'M -4 -2  1 -2  0   0  0 -1 -5  9 -6 -6  -5 -2  0 -4 -3  1  0 -4',\n",
       " 'W -5 -7 -2 -4 -5   0 -1 -5 -8 -6  9 -8  -2 -7 -5 -5  1 -3 -3 -6',\n",
       " 'Y -6 -3 -3 -2 -2   3 -4 -2 -4 -6 -8  8  -6 -6  1 -3 -5  0 -3 -3',\n",
       " 'K  1 -1 -7  2 -1 -10 -2 -4 -3 -5 -2 -6   6 -1 -4 -4 -3 -4 -1 -2',\n",
       " 'A -1  1 -2 -3  0  -4  0 -2 -2 -2 -7 -6  -1  5 -1  0 -3 -2 -1 -2',\n",
       " 'H  3 -1 -3  1 -3  -5 -3  0 -3  0 -5  1  -4 -1  8 -3 -4  0 -6 -1',\n",
       " 'P -4  0 -3 -5 -2  -5 -5 -3 -6 -4 -5 -3  -4  0 -3  7 -4 -1 -1 -3',\n",
       " 'G -4  1 -2  0 -2  -7 -2 -4 -2 -3  1 -5  -3 -3 -4 -4  7 -1 -3 -2',\n",
       " 'C  1 -2 -1  0  0   0 -1 -2 -3  1 -3  0  -4 -2  0 -1 -1  8 -2 -3',\n",
       " 'E -1 -3 -3 -3 -3  -7 -3 -3  1  0 -3 -3  -1 -1 -6 -1 -3 -2  5  0',\n",
       " 'N -1  0 -7 -1  0  -4 -1 -1  1 -4 -6 -3  -2 -2 -1 -3 -2 -3  0  7']"
      ]
     },
     "execution_count": 3,
     "metadata": {},
     "output_type": "execute_result"
    }
   ],
   "source": [
    "with open('blosum_matrix.out', 'r') as file:\n",
    "    contents = file.read().splitlines()\n",
    "contents"
   ]
  },
  {
   "cell_type": "markdown",
   "metadata": {},
   "source": [
    "While some scores seem to vary a bit from the BLOSUM62 matrix, most are within 1 unit of BLOSUM."
   ]
  },
  {
   "cell_type": "markdown",
   "metadata": {},
   "source": [
    "### Exercise 3 - Global/local Alignment\n",
    "  \n",
    "**Part a - (5 pts) Implement the Needleman-Wunsch algorithm: Write a program called needle.py that takes 4 parameters and should be called like python needle.py -8 blosum.txt sequence1.fasta sequence2.fasta, where -8 is the gap penalty w, blosum.txt is a text file containing the scoring matrix and sequence1.fasta and sequence2.fasta are two amino acid sequences in Fasta format. The program should output the score of the alignment and the aligned sequences, i.e. the sequences plus the gaps (represented by the symbol -).**  \n",
    "  \n",
    "**Part b - (2 pts) Formatted output. Modify the output of the alignment so that sequence 1 appears in\n",
    "the first line and sequence 2 in the third line while the second line contains symbols reflecting\n",
    "the similarity between aligned symbols: | for identical residues, : for conservative substitutions\n",
    "(positive score in scoring matrix) and spaces otherwise.**"
   ]
  },
  {
   "cell_type": "code",
   "execution_count": 4,
   "metadata": {},
   "outputs": [
    {
     "name": "stdout",
     "output_type": "stream",
     "text": [
      "Alignment score: -16\n",
      "\n",
      "THRQATWQPPLERMANGRQVE\n",
      "  | |  |  | ::         21\n",
      "--R-AYMQNDLVKVRYYACHT\n",
      "\n",
      "Sequence similarity: 28.57%\n",
      "Sequence identity: 19.05%\n",
      "\n"
     ]
    }
   ],
   "source": [
    "run needle.py -5 blosum62.txt THRQATWQPPLERMANGRQVE RAYMQNDLVKVRYYACHT"
   ]
  },
  {
   "cell_type": "markdown",
   "metadata": {},
   "source": [
    "**Part c - (2 pts) Testing. Perform all pairwise sequence alignments between sequences\n",
    "RNAS1_horse.fasta, RNAS1_minke-whale.fasta, and RNAS1_red-kangaroo.fasta using blosum50.dat\n",
    "and a gap penalty of -8. What can you conclude about the pairwise relationships?**"
   ]
  },
  {
   "cell_type": "code",
   "execution_count": 6,
   "metadata": {},
   "outputs": [
    {
     "name": "stdout",
     "output_type": "stream",
     "text": [
      "Alignment score: 683\n",
      "\n",
      "KESPAMKFERQHMDSGSTSSSNPTYCNQMMKRRNMTQGWCKPVNTFVHEPLADVQAICLQKNITCKNGQSNCYQSSSSMHITDCRLTSGSKYPNCAYQTS\n",
      ":|||||||:|||||||::  :|| |||||| || |||| |||||||||| | ||:|:| |||: ||||::|||:|:|:||||||| |  ||||||||:||  100\n",
      "RESPAMKFQRQHMDSGNSPGNNPNYCNQMMMRRKMTQGRCKPVNTFVHESLEDVKAVCSQKNVLCKNGRTNCYESNSTMHITDCRQTGSSKYPNCAYKTS\n",
      "\n",
      "QKERHIIVACEGNPYVPVHFDASVEVST\n",
      "|||:||||||||||||||||| |  |    128\n",
      "QKEKHIIVACEGNPYVPVHFDNS--V--\n",
      "\n",
      "Sequence similarity: 85.94%\n",
      "Sequence identity: 74.22%\n",
      "\n"
     ]
    }
   ],
   "source": [
    "run needle.py -8 blosum50.txt RNAS1_horse.fasta RNAS1_minke-whale.fasta"
   ]
  },
  {
   "cell_type": "markdown",
   "metadata": {},
   "source": [
    "According to this alignemnt, the horse and minke whale RNAS1 genes are very similar and might be conserved between species. "
   ]
  },
  {
   "cell_type": "markdown",
   "metadata": {},
   "source": [
    "**Part d - (2 pts) Smith-Waterman. Implement the Smith-Waterman algorithm by modifying the code from\n",
    "needle.py. In addition to the alignment score you should output the sequence similarity and the\n",
    "sequence identity of the two aligned sequences in percent. Sequence identity is the percentage\n",
    "of matching residues relative to the length of the aligned sequences including gaps, sequence\n",
    "similarity is the percentage of matched similar residues (i.e., those with a positive value in the\n",
    "scoring matrix) relative to the length of the aligned sequences including gaps.**  \n",
    "  \n",
    "**Part e - (2 pts) Testing. Run a global and a local sequence alignment on the sequences halodurans.fasta\n",
    "and lentus.fasta using blosum62.txt and a gap penalty of -8. Which is more appropriate?**"
   ]
  },
  {
   "cell_type": "code",
   "execution_count": 8,
   "metadata": {},
   "outputs": [
    {
     "name": "stdout",
     "output_type": "stream",
     "text": [
      "Alignment score: 187\n",
      "\n",
      "MRQSLKVMVLSTVALLFMANPAAASEEKKEYLIVVEPEEVSAQSVEESYDVDVIHEFEEIPVIHAELTKKELKKLKKDPNVKAIEKNAEVTISQTVPWGI\n",
      "  |       | |       |         :             :  |                            :   |   :  |        |     100\n",
      "-AQ-------S-V-------P---------W------------GI--S----------------------------R---V---Q--A--------P---\n",
      "\n",
      "SFINTQQAHNRGIFGNGARVAVLDTGIASHPDLRIAGGASFISSEPSYHDNNGHGTHVAGTIAALNNSIGVLGVAPSADLYAVKVLDRNGSGSLASVAQG\n",
      ":      |||||: |:| :||||||||::|||| | |||||:  |||  | |||||||||||||||||||||||||||:|||||||  :||||::|:|||  200\n",
      "A------AHNRGLTGSGVKVAVLDTGISTHPDLNIRGGASFVPGEPSTQDGNGHGTHVAGTIAALNNSIGVLGVAPSAELYAVKVLGASGSGSVSSIAQG\n",
      "\n",
      "IEWAINNNMHIINMSLGSTSGSSTLELAVNRANNAGILLVGAAGNTGRQGVNYPARYSGVMAVAAVDQNGQRASFSTYGPEIEISAPGVNVNSTYTGNRY\n",
      ":||| || ||: |:|||| | |:||| ||| | : |:|:| |:||:|   ::|||||:  ||| | |||  ||||| ||  ::| |||||| ||| |: |  300\n",
      "LEWAGNNGMHVANLSLGSPSPSATLEQAVNSATSRGVLVVAASGNSGAGSISYPARYANAMAVGATDQNNNRASFSQYGAGLDIVAPGVNVQSTYPGSTY\n",
      "\n",
      "VSLSGTSMATPHVAGVAALVKSRYPSYTNNQIRQRINQTATYLGSPSLYGNGLVHAGRATQ\n",
      " ||:||||||||||| ||||| : ||::| |||  :  ||| ||| :|||:|||:|  ||:  361\n",
      "ASLNGTSMATPHVAGAAALVKQKNPSWSNVQIRNHLKNTATSLGSTNLYGSGLVNAEAATR\n",
      "\n",
      "Sequence similarity: 60.11%\n",
      "Sequence identity: 49.03%\n",
      "\n"
     ]
    }
   ],
   "source": [
    "run needle.py -8 blosum62.txt halodurans.fasta lentus.fasta global"
   ]
  },
  {
   "cell_type": "code",
   "execution_count": 5,
   "metadata": {},
   "outputs": [
    {
     "name": "stdout",
     "output_type": "stream",
     "text": [
      "Alignment score: 916\n",
      "\n",
      "SQTVPWGISFINTQQAHNRGIFGNGARVAVLDTGIASHPDLRIAGGASFISSEPSYHDNNGHGTHVAGTIAALNNSIGVLGVAPSADLYAVKVLDRNGSG\n",
      ":|:|||||| :    |||||: |:| :||||||||::|||| | |||||:  |||  | |||||||||||||||||||||||||||:|||||||  :|||  100\n",
      "AQSVPWGISRVQAPAAHNRGLTGSGVKVAVLDTGISTHPDLNIRGGASFVPGEPSTQDGNGHGTHVAGTIAALNNSIGVLGVAPSAELYAVKVLGASGSG\n",
      "\n",
      "SLASVAQGIEWAINNNMHIINMSLGSTSGSSTLELAVNRANNAGILLVGAAGNTGRQGVNYPARYSGVMAVAAVDQNGQRASFSTYGPEIEISAPGVNVN\n",
      "|::|:|||:||| || ||: |:|||| | |:||| ||| | : |:|:| |:||:|   ::|||||:  ||| | |||  ||||| ||  ::| ||||||   200\n",
      "SVSSIAQGLEWAGNNGMHVANLSLGSPSPSATLEQAVNSATSRGVLVVAASGNSGAGSISYPARYANAMAVGATDQNNNRASFSQYGAGLDIVAPGVNVQ\n",
      "\n",
      "STYTGNRYVSLSGTSMATPHVAGVAALVKSRYPSYTNNQIRQRINQTATYLGSPSLYGNGLVHAGRATQ\n",
      "||| |: | ||:||||||||||| ||||| : ||::| |||  :  ||| ||| :|||:|||:|  ||:  269\n",
      "STYPGSTYASLNGTSMATPHVAGAAALVKQKNPSWSNVQIRNHLKNTATSLGSTNLYGSGLVNAEAATR\n",
      "\n",
      "Sequence similarity: 79.55%\n",
      "Sequence identity: 65.43%\n",
      "\n"
     ]
    }
   ],
   "source": [
    "run needle.py -8 blosum62.txt halodurans.fasta lentus.fasta local"
   ]
  },
  {
   "cell_type": "markdown",
   "metadata": {},
   "source": [
    "The local alignment has created a larger alignment score and found higher similarity between these sequences. The local alignment is more appropiate."
   ]
  },
  {
   "cell_type": "markdown",
   "metadata": {},
   "source": [
    "### Exercise 4 - Affine gaps\n",
    "  \n",
    "**Part a - (5 pts) Modify the global sequence alignment implementation to allow a\u001e",
    "ne gap penalties w(l) =\n",
    "d+e(l-1) according to the algorithm described above. Note that your program needs to accept\n",
    "an additional parameter for the gap open and extension penalty, e.g. python needle.py -8 -2\n",
    "blosum.txt sequence1.fasta sequence2.fasta for d = -8 and e = -2.**  \n",
    "\n",
    "**Part b - (2 pts) Testing. Perform the sequence alignment for sequences GLB7A_CHITH.fasta and GLBE_CHITH.fasta\n",
    "using blosum62.txt a gap open penalty of -8 and an gap extension penalty of -2. Compare this\n",
    "to the version using a constant gap penalty. To check your solution: In the affine case you should\n",
    "get a gap of length 6 that corresponds to the word ALIGNE in the other sequence.**  "
   ]
  },
  {
   "cell_type": "code",
   "execution_count": 9,
   "metadata": {},
   "outputs": [
    {
     "name": "stdout",
     "output_type": "stream",
     "text": [
      "Alignment score: 349\n",
      "\n",
      "MKFFAVLALCIVGAIASPLSADQAALVKSTWAQVRNSEVEILAAVFTAYPDIQARFPQFAGKDVASIKDTGAFATHAGRIVGFVSEIIALIGNESNAPAV\n",
      "|||  :||||   | || || ||  ||:||: :|:   | || ||| | | ||| |||| |||: :||    |:|||||||||:  :|       : | :  100\n",
      "MKF-IILALC--VAAASALSGDQIGLVQSTYGKVKGDSVGILYAVFKADPTIQAAFPQFVGKDLDAIKGGAEFSTHAGRIVGFLGGVI------DDLPNI\n",
      "\n",
      "QTLVGQLAASHKARGISQAQFNEFRAGLVSYVSSNVAWNAAAESAWTAGLDNIFGLLFAAL\n",
      "   |  | |:|| ||:: |||| |||  ::|:  :| : || |:|| |  |  || :|| :  161\n",
      "GKHVDALVATHKPRGVTHAQFNNFRAAFIAYLKGHVDYTAAVEAAWGATFDAFFGAVFAKM\n",
      "\n",
      "Sequence similarity: 62.73%\n",
      "Sequence identity: 48.45%\n",
      "\n"
     ]
    }
   ],
   "source": [
    "run needle.py -8 blosum62.txt GLB7A_CHITH.fasta GLBE_CHITH.fasta global True -2"
   ]
  },
  {
   "cell_type": "code",
   "execution_count": 10,
   "metadata": {},
   "outputs": [
    {
     "name": "stdout",
     "output_type": "stream",
     "text": [
      "Alignment score: 326\n",
      "\n",
      "MKFFAVLALCIVGAIASPLSADQAALVKSTWAQVRNSEVEILAAVFTAYPDIQARFPQFAGKDVASIKDTGAFATHAGRIVGFVSEIIALIGNESNAPAV\n",
      "|||  :|||| | | || || ||  ||:||: :|:   | || ||| | | ||| |||| |||: :||    |:|||||||||:     :|  : : | :  100\n",
      "MKFI-ILALC-VAA-ASALSGDQIGLVQSTYGKVKGDSVGILYAVFKADPTIQAAFPQFVGKDLDAIKGGAEFSTHAGRIVGFLG---GVI--D-DLPNI\n",
      "\n",
      "QTLVGQLAASHKARGISQAQFNEFRAGLVSYVSSNVAWNAAAESAWTAGLDNIFGLLFAAL\n",
      "   |  | |:|| ||:: |||| |||  ::|:  :| : || |:|| |  |  || :|| :  161\n",
      "GKHVDALVATHKPRGVTHAQFNNFRAAFIAYLKGHVDYTAAVEAAWGATFDAFFGAVFAKM\n",
      "\n",
      "Sequence similarity: 63.98%\n",
      "Sequence identity: 49.07%\n",
      "\n"
     ]
    }
   ],
   "source": [
    "run needle.py -8 blosum62.txt GLB7A_CHITH.fasta GLBE_CHITH.fasta global"
   ]
  },
  {
   "cell_type": "markdown",
   "metadata": {},
   "source": [
    "While the affine gap alignment did have a higher alignment score, the sequence similarity is lower. It would almost appear as though it is trying to introduce gaps when it shouldn't. That or my code is off."
   ]
  },
  {
   "cell_type": "code",
   "execution_count": null,
   "metadata": {},
   "outputs": [],
   "source": []
  }
 ],
 "metadata": {
  "kernelspec": {
   "display_name": "Python 3",
   "language": "python",
   "name": "python3"
  },
  "language_info": {
   "codemirror_mode": {
    "name": "ipython",
    "version": 3
   },
   "file_extension": ".py",
   "mimetype": "text/x-python",
   "name": "python",
   "nbconvert_exporter": "python",
   "pygments_lexer": "ipython3",
   "version": "3.6.4"
  }
 },
 "nbformat": 4,
 "nbformat_minor": 2
}
